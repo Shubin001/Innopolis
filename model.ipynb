{
  "nbformat": 4,
  "nbformat_minor": 0,
  "metadata": {
    "colab": {
      "provenance": [],
      "authorship_tag": "ABX9TyNpi8Qm3HdSDWix4FPcqe2+",
      "include_colab_link": true
    },
    "kernelspec": {
      "name": "python3",
      "display_name": "Python 3"
    },
    "language_info": {
      "name": "python"
    }
  },
  "cells": [
    {
      "cell_type": "markdown",
      "metadata": {
        "id": "view-in-github",
        "colab_type": "text"
      },
      "source": [
        "<a href=\"https://colab.research.google.com/github/Shubin001/Innopolis/blob/main/model.ipynb\" target=\"_parent\"><img src=\"https://colab.research.google.com/assets/colab-badge.svg\" alt=\"Open In Colab\"/></a>"
      ]
    },
    {
      "cell_type": "code",
      "execution_count": null,
      "metadata": {
        "colab": {
          "base_uri": "https://localhost:8080/"
        },
        "id": "GR-fq56znalx",
        "outputId": "50381d13-640f-438a-e667-465ce84d6f7c"
      },
      "outputs": [
        {
          "output_type": "stream",
          "name": "stdout",
          "text": [
            "Mounted at /content/drive\n"
          ]
        }
      ],
      "source": [
        "from google.colab import drive\n",
        "drive.mount('/content/drive')"
      ]
    },
    {
      "cell_type": "code",
      "source": [
        "import pandas as pd\n",
        "from sklearn.model_selection import train_test_split\n",
        "from sklearn.ensemble import RandomForestClassifier\n",
        "from sklearn.metrics import recall_score, precision_score, classification_report, f1_score, confusion_matrix, accuracy_score\n",
        "import joblib"
      ],
      "metadata": {
        "id": "H_VxQOLcosIQ"
      },
      "execution_count": null,
      "outputs": []
    },
    {
      "cell_type": "code",
      "source": [
        "df = pd.read_csv('/content/drive/MyDrive/Innopolis/train_dataset_train.csv')\n",
        "\n",
        "X = df.drop(['id', 'area', '.geo', 'crop'], axis = 1)\n",
        "y = df['crop']\n",
        "\n",
        "df_test = pd.read_csv('/content/drive/MyDrive/Innopolis/test_dataset_test.csv')\n",
        "test = df_test.drop(['id', 'area', '.geo'], axis = 1)\n",
        "\n",
        "df_solution = pd.read_csv('/content/drive/MyDrive/Innopolis/sample_solution.csv')\n",
        "\n",
        "X_train, X_test, y_train, y_test = train_test_split(X, y, test_size=0.15, random_state=42)\n",
        "\n",
        "clf = RandomForestClassifier(n_estimators=120, \n",
        "                             max_depth=50,\n",
        "                             bootstrap=False)\n",
        "clf.fit(X_train, y_train)\n",
        "\n",
        "pred_train = clf.predict(X_train)\n",
        "pred_test = clf.predict(X_test)\n",
        "\n",
        "print(confusion_matrix(pred_test, y_test))\n",
        "print('-'*55)\n",
        "print('Число ошибок: %d' % (y_test != pred_test).sum())\n",
        "print('-'*55)\n",
        "print('accuracy -', accuracy_score(pred_test, y_test))\n",
        "print('f1_score_train -', f1_score(y_train, pred_train, average='macro', zero_division = 0))\n",
        "print('f1_score_test -', f1_score(y_test, pred_test, average='macro', zero_division = 0))\n",
        "print('recall_score_test -', recall_score(y_test, pred_test, average = 'macro', zero_division = 0))\n",
        "print('-'*55)\n",
        "print(classification_report(y_test, pred_test))\n",
        "print('-'*55)\n",
        "\n",
        "joblib.dump(clf, '/content/drive/MyDrive/Innopolis/model.joblib')\n",
        "\n",
        "df_solution['crop'] = clf.predict(test).astype('int')\n",
        "df_solution.to_csv('/content/drive/MyDrive/Innopolis/solution.csv', index=False)\n",
        "df_solution.head()"
      ],
      "metadata": {
        "colab": {
          "base_uri": "https://localhost:8080/",
          "height": 727
        },
        "id": "oOF_-SEAhA90",
        "outputId": "5586873d-bebf-441f-d958-3a2ed4796521"
      },
      "execution_count": null,
      "outputs": [
        {
          "output_type": "stream",
          "name": "stdout",
          "text": [
            "[[130   0   0   0   3   0   5]\n",
            " [  0  92   0   0   0   0   0]\n",
            " [  1   0  98   0   1   1   0]\n",
            " [  0   0   0  99   0   0   0]\n",
            " [  2   3   0   0 108   0   0]\n",
            " [  0   0   0   0   0  82   0]\n",
            " [  2   0   1   0   1   0  96]]\n",
            "-------------------------------------------------------\n",
            "Число ошибок: 20\n",
            "-------------------------------------------------------\n",
            "accuracy - 0.9724137931034482\n",
            "f1_score_train - 1.0\n",
            "f1_score_test - 0.9744648083654398\n",
            "recall_score_test - 0.9736402963738254\n",
            "-------------------------------------------------------\n",
            "              precision    recall  f1-score   support\n",
            "\n",
            "           0       0.94      0.96      0.95       135\n",
            "           1       1.00      0.97      0.98        95\n",
            "           2       0.97      0.99      0.98        99\n",
            "           3       1.00      1.00      1.00        99\n",
            "           4       0.96      0.96      0.96       113\n",
            "           5       1.00      0.99      0.99        83\n",
            "           6       0.96      0.95      0.96       101\n",
            "\n",
            "    accuracy                           0.97       725\n",
            "   macro avg       0.98      0.97      0.97       725\n",
            "weighted avg       0.97      0.97      0.97       725\n",
            "\n",
            "-------------------------------------------------------\n"
          ]
        },
        {
          "output_type": "execute_result",
          "data": {
            "text/plain": [
              "     id  crop\n",
              "0   611     3\n",
              "1  6417     2\n",
              "2  3352     3\n",
              "3  4224     1\n",
              "4  3102     6"
            ],
            "text/html": [
              "\n",
              "  <div id=\"df-a195a14b-dc9f-4fa6-bff2-46b741199776\">\n",
              "    <div class=\"colab-df-container\">\n",
              "      <div>\n",
              "<style scoped>\n",
              "    .dataframe tbody tr th:only-of-type {\n",
              "        vertical-align: middle;\n",
              "    }\n",
              "\n",
              "    .dataframe tbody tr th {\n",
              "        vertical-align: top;\n",
              "    }\n",
              "\n",
              "    .dataframe thead th {\n",
              "        text-align: right;\n",
              "    }\n",
              "</style>\n",
              "<table border=\"1\" class=\"dataframe\">\n",
              "  <thead>\n",
              "    <tr style=\"text-align: right;\">\n",
              "      <th></th>\n",
              "      <th>id</th>\n",
              "      <th>crop</th>\n",
              "    </tr>\n",
              "  </thead>\n",
              "  <tbody>\n",
              "    <tr>\n",
              "      <th>0</th>\n",
              "      <td>611</td>\n",
              "      <td>3</td>\n",
              "    </tr>\n",
              "    <tr>\n",
              "      <th>1</th>\n",
              "      <td>6417</td>\n",
              "      <td>2</td>\n",
              "    </tr>\n",
              "    <tr>\n",
              "      <th>2</th>\n",
              "      <td>3352</td>\n",
              "      <td>3</td>\n",
              "    </tr>\n",
              "    <tr>\n",
              "      <th>3</th>\n",
              "      <td>4224</td>\n",
              "      <td>1</td>\n",
              "    </tr>\n",
              "    <tr>\n",
              "      <th>4</th>\n",
              "      <td>3102</td>\n",
              "      <td>6</td>\n",
              "    </tr>\n",
              "  </tbody>\n",
              "</table>\n",
              "</div>\n",
              "      <button class=\"colab-df-convert\" onclick=\"convertToInteractive('df-a195a14b-dc9f-4fa6-bff2-46b741199776')\"\n",
              "              title=\"Convert this dataframe to an interactive table.\"\n",
              "              style=\"display:none;\">\n",
              "        \n",
              "  <svg xmlns=\"http://www.w3.org/2000/svg\" height=\"24px\"viewBox=\"0 0 24 24\"\n",
              "       width=\"24px\">\n",
              "    <path d=\"M0 0h24v24H0V0z\" fill=\"none\"/>\n",
              "    <path d=\"M18.56 5.44l.94 2.06.94-2.06 2.06-.94-2.06-.94-.94-2.06-.94 2.06-2.06.94zm-11 1L8.5 8.5l.94-2.06 2.06-.94-2.06-.94L8.5 2.5l-.94 2.06-2.06.94zm10 10l.94 2.06.94-2.06 2.06-.94-2.06-.94-.94-2.06-.94 2.06-2.06.94z\"/><path d=\"M17.41 7.96l-1.37-1.37c-.4-.4-.92-.59-1.43-.59-.52 0-1.04.2-1.43.59L10.3 9.45l-7.72 7.72c-.78.78-.78 2.05 0 2.83L4 21.41c.39.39.9.59 1.41.59.51 0 1.02-.2 1.41-.59l7.78-7.78 2.81-2.81c.8-.78.8-2.07 0-2.86zM5.41 20L4 18.59l7.72-7.72 1.47 1.35L5.41 20z\"/>\n",
              "  </svg>\n",
              "      </button>\n",
              "      \n",
              "  <style>\n",
              "    .colab-df-container {\n",
              "      display:flex;\n",
              "      flex-wrap:wrap;\n",
              "      gap: 12px;\n",
              "    }\n",
              "\n",
              "    .colab-df-convert {\n",
              "      background-color: #E8F0FE;\n",
              "      border: none;\n",
              "      border-radius: 50%;\n",
              "      cursor: pointer;\n",
              "      display: none;\n",
              "      fill: #1967D2;\n",
              "      height: 32px;\n",
              "      padding: 0 0 0 0;\n",
              "      width: 32px;\n",
              "    }\n",
              "\n",
              "    .colab-df-convert:hover {\n",
              "      background-color: #E2EBFA;\n",
              "      box-shadow: 0px 1px 2px rgba(60, 64, 67, 0.3), 0px 1px 3px 1px rgba(60, 64, 67, 0.15);\n",
              "      fill: #174EA6;\n",
              "    }\n",
              "\n",
              "    [theme=dark] .colab-df-convert {\n",
              "      background-color: #3B4455;\n",
              "      fill: #D2E3FC;\n",
              "    }\n",
              "\n",
              "    [theme=dark] .colab-df-convert:hover {\n",
              "      background-color: #434B5C;\n",
              "      box-shadow: 0px 1px 3px 1px rgba(0, 0, 0, 0.15);\n",
              "      filter: drop-shadow(0px 1px 2px rgba(0, 0, 0, 0.3));\n",
              "      fill: #FFFFFF;\n",
              "    }\n",
              "  </style>\n",
              "\n",
              "      <script>\n",
              "        const buttonEl =\n",
              "          document.querySelector('#df-a195a14b-dc9f-4fa6-bff2-46b741199776 button.colab-df-convert');\n",
              "        buttonEl.style.display =\n",
              "          google.colab.kernel.accessAllowed ? 'block' : 'none';\n",
              "\n",
              "        async function convertToInteractive(key) {\n",
              "          const element = document.querySelector('#df-a195a14b-dc9f-4fa6-bff2-46b741199776');\n",
              "          const dataTable =\n",
              "            await google.colab.kernel.invokeFunction('convertToInteractive',\n",
              "                                                     [key], {});\n",
              "          if (!dataTable) return;\n",
              "\n",
              "          const docLinkHtml = 'Like what you see? Visit the ' +\n",
              "            '<a target=\"_blank\" href=https://colab.research.google.com/notebooks/data_table.ipynb>data table notebook</a>'\n",
              "            + ' to learn more about interactive tables.';\n",
              "          element.innerHTML = '';\n",
              "          dataTable['output_type'] = 'display_data';\n",
              "          await google.colab.output.renderOutput(dataTable, element);\n",
              "          const docLink = document.createElement('div');\n",
              "          docLink.innerHTML = docLinkHtml;\n",
              "          element.appendChild(docLink);\n",
              "        }\n",
              "      </script>\n",
              "    </div>\n",
              "  </div>\n",
              "  "
            ]
          },
          "metadata": {},
          "execution_count": 16
        }
      ]
    }
  ]
}